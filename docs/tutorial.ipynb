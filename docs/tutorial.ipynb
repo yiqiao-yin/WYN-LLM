{
 "cells": [
  {
   "cell_type": "code",
   "execution_count": null,
   "metadata": {},
   "outputs": [],
   "source": [
    "! pip install .."
   ]
  },
  {
   "cell_type": "code",
   "execution_count": 2,
   "metadata": {},
   "outputs": [
    {
     "name": "stderr",
     "output_type": "stream",
     "text": [
      "c:\\Users\\eagle\\Documents\\repo\\.venv_wyn_llm\\lib\\site-packages\\tqdm\\auto.py:21: TqdmWarning: IProgress not found. Please update jupyter and ipywidgets. See https://ipywidgets.readthedocs.io/en/stable/user_install.html\n",
      "  from .autonotebook import tqdm as notebook_tqdm\n"
     ]
    }
   ],
   "source": [
    "import os\n",
    "import src.explain.similarity as wyn_explain_sim"
   ]
  },
  {
   "cell_type": "code",
   "execution_count": 3,
   "metadata": {},
   "outputs": [],
   "source": [
    "from dotenv import find_dotenv, load_dotenv\n",
    "import openai\n",
    "import google.generativeai as palm\n",
    "_ = load_dotenv(find_dotenv())  # read local .env file"
   ]
  },
  {
   "cell_type": "code",
   "execution_count": 4,
   "metadata": {},
   "outputs": [],
   "source": [
    "OPENAI_API_KEY = os.environ['OPENAI_API_KEY']\n",
    "PALM_API_KEY = os.environ['PALM_API_KEY']"
   ]
  },
  {
   "cell_type": "code",
   "execution_count": 18,
   "metadata": {},
   "outputs": [],
   "source": [
    "str1 = \"hello Johndf  asdfsd asdf sda sadf d\"\n",
    "str2 = \"hi John\""
   ]
  },
  {
   "cell_type": "code",
   "execution_count": 19,
   "metadata": {},
   "outputs": [
    {
     "name": "stdout",
     "output_type": "stream",
     "text": [
      "0.0\n",
      "0.28481680154800415\n",
      "0.8680180742531607\n",
      "0.8085005128727133\n"
     ]
    }
   ],
   "source": [
    "print(wyn_explain_sim.calculate_cosine_similarity(str1, str2))\n",
    "print(wyn_explain_sim.calculate_sts_score(str1, str2))\n",
    "print(wyn_explain_sim.calculate_sts_openai_score(str1, str2, OPENAI_API_KEY))\n",
    "print(wyn_explain_sim.calculate_sts_palm_score(str1, str2, PALM_API_KEY))"
   ]
  },
  {
   "cell_type": "code",
   "execution_count": 10,
   "metadata": {},
   "outputs": [],
   "source": [
    "embedding1 = wyn_explain_sim.openai_text_embedding(\n",
    "    prompt=str1,\n",
    "    key=OPENAI_API_KEY\n",
    ")\n",
    "\n",
    "embedding2 = wyn_explain_sim.openai_text_embedding(\n",
    "    prompt=str2,\n",
    "    key=OPENAI_API_KEY\n",
    ")"
   ]
  },
  {
   "cell_type": "code",
   "execution_count": 14,
   "metadata": {},
   "outputs": [],
   "source": [
    "import numpy as np"
   ]
  },
  {
   "cell_type": "code",
   "execution_count": 15,
   "metadata": {},
   "outputs": [
    {
     "data": {
      "text/plain": [
       "array([[1.        , 0.98067336],\n",
       "       [0.98067336, 1.        ]])"
      ]
     },
     "execution_count": 15,
     "metadata": {},
     "output_type": "execute_result"
    }
   ],
   "source": [
    "np.corrcoef(embedding1, embedding2)"
   ]
  },
  {
   "cell_type": "code",
   "execution_count": 16,
   "metadata": {},
   "outputs": [],
   "source": [
    "embedding1_palm = wyn_explain_sim.palm_text_embedding(str1, PALM_API_KEY)\n",
    "embedding2_palm = wyn_explain_sim.palm_text_embedding(str2, PALM_API_KEY)"
   ]
  },
  {
   "cell_type": "code",
   "execution_count": 17,
   "metadata": {},
   "outputs": [
    {
     "data": {
      "text/plain": [
       "array([[1.        , 0.95474423],\n",
       "       [0.95474423, 1.        ]])"
      ]
     },
     "execution_count": 17,
     "metadata": {},
     "output_type": "execute_result"
    }
   ],
   "source": [
    "np.corrcoef(embedding1_palm, embedding2_palm)"
   ]
  }
 ],
 "metadata": {
  "kernelspec": {
   "display_name": ".venv_wyn_llm",
   "language": "python",
   "name": "python3"
  },
  "language_info": {
   "codemirror_mode": {
    "name": "ipython",
    "version": 3
   },
   "file_extension": ".py",
   "mimetype": "text/x-python",
   "name": "python",
   "nbconvert_exporter": "python",
   "pygments_lexer": "ipython3",
   "version": "3.9.13"
  },
  "orig_nbformat": 4
 },
 "nbformat": 4,
 "nbformat_minor": 2
}
